{
 "cells": [
  {
   "cell_type": "code",
   "execution_count": 25,
   "metadata": {},
   "outputs": [],
   "source": [
    "import pywt #小波变换要引入这个包\n",
    "def Wavelet_Transform(data,threshold):\n",
    "    w = pywt.Wavelet('db8')  # 选用Daubechies8小波\n",
    "    maxlev = pywt.dwt_max_level(len(data), w.dec_len)\n",
    "    coeffs = pywt.wavedec(data, 'db8', level=maxlev)  # 将信号进行小波分解\n",
    "    for i in range(0, len(coeffs)):\n",
    "        coeffs[i] = pywt.threshold(coeffs[i], threshold*max(coeffs[i]))  # 将噪声滤波  小于value的值设置为0，大于value的减去value作为新的值\n",
    "    result = pywt.waverec(coeffs, 'db8')#将信号进行小波重构\n",
    "    return result"
   ]
  },
  {
   "cell_type": "code",
   "execution_count": 53,
   "metadata": {},
   "outputs": [
    {
     "name": "stdout",
     "output_type": "stream",
     "text": [
      "4834\n",
      "4834\n",
      "4834\n"
     ]
    },
    {
     "data": {
      "image/png": "[encoded data removed]",
      "text/plain": [
       "<Figure size 432x288 with 1 Axes>"
      ]
     },
     "metadata": {
      "needs_background": "light"
     },
     "output_type": "display_data"
    }
   ],
   "source": [
    "\n",
    "import pandas as pd \n",
    "import numpy as np\n",
    "import matplotlib.pyplot as plt\n",
    "df = pd.read_csv(r'C:\\Study\\PJ\\NetHack\\our code\\eeg_boiler_blink_blink.csv')\n",
    "# df = pd.read_csv(r'C:\\Study\\PJ\\NetHack\\our code\\eeg_boiler_close_open.csv')\n",
    "\n",
    "c1_list=[]\n",
    "t_list=[]\n",
    "df.columns = ['c1','c2','c3','c4']\n",
    "\n",
    "\n",
    "for i in range(len(df)-1):\n",
    "# for i in range(int(1.5*256),to_even(10*256)):\n",
    "    c1_list.append(df.loc[i,'c1'])\n",
    "    t_list.append(i*(1/256))\n",
    "    \n",
    "print(len(c1_list))\n",
    "print(len(t_list))\n",
    "c1_list=Wavelet_Transform(c1_list,0)\n",
    "print(len(c1_list))\n",
    "plt.plot(t_list,c1_list)\n",
    "plt.show()\n"
   ]
  },
  {
   "cell_type": "code",
   "execution_count": 29,
   "metadata": {},
   "outputs": [],
   "source": [
    "def to_even(a):\n",
    "    return int(a//2*2)"
   ]
  },
  {
   "cell_type": "code",
   "execution_count": 55,
   "metadata": {},
   "outputs": [],
   "source": [
    "from brainflow.data_filter import DataFilter, DetrendOperations, FilterTypes\n",
    "def fil(data,sampling_rate):\n",
    "    DataFilter.perform_bandpass(\n",
    "        data,\n",
    "        sampling_rate,\n",
    "        51.0,\n",
    "        100.0,\n",
    "        2,\n",
    "        FilterTypes.BUTTERWORTH.value,\n",
    "        0,\n",
    "    )\n",
    "    DataFilter.perform_bandpass(\n",
    "        data,\n",
    "        sampling_rate,\n",
    "        51.0,\n",
    "        100.0,\n",
    "        2,\n",
    "        FilterTypes.BUTTERWORTH.value,\n",
    "        0,\n",
    "    )\n",
    "    DataFilter.perform_bandstop(\n",
    "        data,\n",
    "        sampling_rate,\n",
    "        50.0,\n",
    "        4.0,\n",
    "        2,\n",
    "        FilterTypes.BUTTERWORTH.value,\n",
    "        0,\n",
    "    )\n",
    "    DataFilter.perform_bandstop(\n",
    "        data,\n",
    "        sampling_rate,\n",
    "        60.0,\n",
    "        4.0,\n",
    "        2,\n",
    "        FilterTypes.BUTTERWORTH.value,\n",
    "        0,\n",
    "    )\n",
    "    DataFilter.perform_bandpass(\n",
    "        data,\n",
    "        sampling_rate,\n",
    "        51.0,\n",
    "        100.0,\n",
    "        2,\n",
    "        FilterTypes.BUTTERWORTH.value,\n",
    "        0,\n",
    "    )\n",
    "    DataFilter.perform_bandpass(\n",
    "        data,\n",
    "        sampling_rate,\n",
    "        51.0,\n",
    "        100.0,\n",
    "        2,\n",
    "        FilterTypes.BUTTERWORTH.value,\n",
    "        0,\n",
    "    )\n",
    "    DataFilter.perform_bandstop(\n",
    "        data,\n",
    "        sampling_rate,\n",
    "        50.0,\n",
    "        4.0,\n",
    "        2,\n",
    "        FilterTypes.BUTTERWORTH.value,\n",
    "        0,\n",
    "    )\n",
    "    DataFilter.perform_bandstop(\n",
    "        data,\n",
    "        sampling_rate,\n",
    "        60.0,\n",
    "        4.0,\n",
    "        2,\n",
    "        FilterTypes.BUTTERWORTH.value,\n",
    "        0,\n",
    "    )\n",
    "    return data"
   ]
  }
 ],
 "metadata": {
  "kernelspec": {
   "display_name": "Python 3.8.8 ('base')",
   "language": "python",
   "name": "python3"
  },
  "language_info": {
   "codemirror_mode": {
    "name": "ipython",
    "version": 3
   },
   "file_extension": ".py",
   "mimetype": "text/x-python",
   "name": "python",
   "nbconvert_exporter": "python",
   "pygments_lexer": "ipython3",
   "version": "3.8.8"
  },
  "orig_nbformat": 4,
  "vscode": {
   "interpreter": {
    "hash": "c427f9edfbe35f95030826e64bf65ccb5ad90978cbbe42c2a1ff768faa0aca5e"
   }
  }
 },
 "nbformat": 4,
 "nbformat_minor": 2
}
